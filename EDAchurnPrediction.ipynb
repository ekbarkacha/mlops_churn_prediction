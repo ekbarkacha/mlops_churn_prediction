{
 "cells": [
  {
   "cell_type": "markdown",
   "metadata": {},
   "source": [
    "# INTRODUCTION"
   ]
  },
  {
   "cell_type": "markdown",
   "metadata": {
    "id": "aXi7uIfVr2PK"
   },
   "source": [
    "Customer churn remains a major challenge for telecom companies, leading to revenue loss and weakened customer loyalty. Predicting churn before it happens enables proactive retention and smarter decision-making.\n",
    "\n",
    "This project introduces a Real-Time Churn Prediction System designed to identify customers at risk of leaving and explain the reasons behind their behavior. By combining data-driven insights with real-time monitoring, the system empowers businesses to act quickly, reduce churn, and improve long-term customer relationships."
   ]
  },
  {
   "cell_type": "code",
   "execution_count": null,
   "metadata": {
    "id": "oQGJOg9br1xi"
   },
   "outputs": [],
   "source": []
  },
  {
   "cell_type": "markdown",
   "metadata": {
    "id": "OkcVDEsesvb8"
   },
   "source": [
    "## Project Objectives\n",
    "\n",
    "- Identify Churn Patterns:\n",
    "Apply advanced data analysis techniques to uncover meaningful patterns and trends within customer behavior, helping to better understand the drivers of churn.\n",
    "\n",
    "\n",
    "- Predict Customer Churn:\n",
    "Build and evaluate machine learning models capable of accurately predicting customers at risk of leaving, allowing timely intervention and proactive retention actions.\n",
    "\n",
    "\n",
    "- Analyze Key Influencing Factors:\n",
    "Examine the main factors impacting churn — such as service quality, pricing, competition, and customer support — to gain actionable insights into customer decision-making.\n",
    "\n",
    "\n",
    "- Develop Retention Strategies:\n",
    "Translate analytical findings into practical strategies aimed at improving customer loyalty through service improvements, competitive offers, and personalized engagement initiatives."
   ]
  },
  {
   "cell_type": "code",
   "execution_count": null,
   "metadata": {
    "id": "ueIBVE9bst6n"
   },
   "outputs": [],
   "source": []
  },
  {
   "cell_type": "markdown",
   "metadata": {
    "id": "QcSwoL18tgvK"
   },
   "source": [
    "# Dataset Overview\n",
    "\n",
    "This project leverages data from the Kaggle Telco Customer Churn Dataset, which contains detailed information about a telecommunications company’s customers and their service usage.\n",
    "\n",
    "The goal is to identify patterns and build predictive models to determine whether a customer is likely to churn."
   ]
  },
  {
   "cell_type": "code",
   "execution_count": null,
   "metadata": {
    "id": "dccZZ0X9tf8V"
   },
   "outputs": [],
   "source": []
  },
  {
   "cell_type": "markdown",
   "metadata": {
    "id": "FVWNw0DxtvBV"
   },
   "source": [
    "| **Attribute Name**   | **Description**                                                                                      |\n",
    "| -------------------- | ---------------------------------------------------------------------------------------------------- |\n",
    "| **customerID**       | Unique identifier assigned to each customer.                                                         |\n",
    "| **gender**           | Customer’s gender (Male, Female).                                                                    |\n",
    "| **SeniorCitizen**    | Indicates whether the customer is a senior citizen (1 = Yes, 0 = No).                                |\n",
    "| **Partner**          | Whether the customer has a partner (Yes, No).                                                        |\n",
    "| **Dependents**       | Whether the customer has dependents (Yes, No).                                                       |\n",
    "| **tenure**           | Number of months the customer has stayed with the company.                                           |\n",
    "| **PhoneService**     | Indicates if the customer has phone service (Yes, No).                                               |\n",
    "| **MultipleLines**    | Whether the customer has multiple lines (Yes, No, No phone service).                                 |\n",
    "| **InternetService**  | Type of internet service (DSL, Fiber optic, No).                                                     |\n",
    "| **OnlineSecurity**   | Availability of online security service (Yes, No, No internet service).                              |\n",
    "| **OnlineBackup**     | Availability of online backup service (Yes, No, No internet service).                                |\n",
    "| **DeviceProtection** | Availability of device protection service (Yes, No, No internet service).                            |\n",
    "| **TechSupport**      | Availability of technical support service (Yes, No, No internet service).                            |\n",
    "| **StreamingTV**      | Whether the customer has streaming TV service (Yes, No, No internet service).                        |\n",
    "| **StreamingMovies**  | Whether the customer has streaming movie service (Yes, No, No internet service).                     |\n",
    "| **Contract**         | Type of contract (Month-to-month, One year, Two year).                                               |\n",
    "| **PaperlessBilling** | Whether the customer uses paperless billing (Yes, No).                                               |\n",
    "| **PaymentMethod**    | Payment method (Electronic check, Mailed check, Bank transfer (automatic), Credit card (automatic)). |\n",
    "| **MonthlyCharges**   | Amount charged to the customer every month.                                                          |\n",
    "| **TotalCharges**     | Total amount charged to the customer over their tenure.                                              |\n",
    "| **Churn**            | Indicates whether the customer has churned (Yes, No).                                                |\n"
   ]
  },
  {
   "cell_type": "code",
   "execution_count": null,
   "metadata": {
    "id": "gOyG9egituU-"
   },
   "outputs": [],
   "source": []
  },
  {
   "cell_type": "markdown",
   "metadata": {
    "id": "rVvwVKH9uKFs"
   },
   "source": [
    "# Key Questions\n",
    "\n",
    "This analysis seeks to address the following central questions:\n",
    "\n",
    "- What drives customer churn the most?\n",
    "Which underlying factors  such as service quality, pricing, or customer engagement  have the greatest influence on whether customers decide to leave the company?\n",
    "\n",
    "- How do contract types and customer relationships affect churn?\n",
    "\n",
    "- Do longer-term contracts or specific payment methods contribute to improved customer retention and reduced churn rates?\n",
    "\n",
    "- How accurately can churn be predicted, and which features matter most?\n",
    "\n",
    "- Can we build a reliable predictive model to identify customers at risk of churning, and what are the key predictors driving those outcomes?"
   ]
  },
  {
   "cell_type": "code",
   "execution_count": null,
   "metadata": {
    "id": "3TclJ6gxtf44"
   },
   "outputs": [],
   "source": []
  },
  {
   "cell_type": "markdown",
   "metadata": {
    "id": "pYOKSS3wvPoZ"
   },
   "source": [
    "# Limitations\n",
    "\n",
    "- Data Quality and Completeness\n",
    "The accuracy and reliability of the analysis are strongly dependent on the quality of the dataset. Missing values, data entry errors, or sampling biases could reduce the robustness of insights and model predictions.\n",
    "\n",
    "- Scope and Coverage of Variables\n",
    "The dataset may not capture all potential factors influencing customer churn, such as customer sentiment, external market dynamics, or service interaction history. This limitation may restrict the depth and context of the analysis.\n",
    "\n",
    "- Temporal Constraints\n",
    "The dataset represents a static snapshot of customer behavior rather than continuous real-time data. As a result, it may not fully reflect changing customer patterns or evolving business conditions.\n",
    "\n",
    "- Model Generalization\n",
    "Models trained on this dataset might perform well on similar data but may require adaptation and retraining when applied to different markets or customer segments."
   ]
  },
  {
   "cell_type": "code",
   "execution_count": null,
   "metadata": {
    "id": "zHRu3n6zvNZI"
   },
   "outputs": [],
   "source": []
  },
  {
   "cell_type": "code",
   "execution_count": null,
   "metadata": {
    "id": "lKLv6lfbvM0J"
   },
   "outputs": [],
   "source": []
  },
  {
   "cell_type": "code",
   "execution_count": null,
   "metadata": {
    "id": "9BWGuNZer1sw"
   },
   "outputs": [],
   "source": []
  },
  {
   "cell_type": "markdown",
   "metadata": {
    "id": "hsR0VCrauqj_"
   },
   "source": [
    "# Importing Libraries"
   ]
  },
  {
   "cell_type": "code",
   "execution_count": null,
   "metadata": {
    "id": "MPJgfvThrzLi"
   },
   "outputs": [],
   "source": []
  },
  {
   "cell_type": "code",
   "execution_count": null,
   "metadata": {
    "id": "DK0tp0X0lMSb"
   },
   "outputs": [],
   "source": [
    "! pip install joblib>=1.2.0"
   ]
  },
  {
   "cell_type": "code",
   "execution_count": null,
   "metadata": {
    "id": "gE6ZP6OBli9s"
   },
   "outputs": [],
   "source": [
    "\n",
    "! pip install scikit-learn -- upgrade -q"
   ]
  },
  {
   "cell_type": "code",
   "execution_count": null,
   "metadata": {
    "colab": {
     "base_uri": "https://localhost:8080/"
    },
    "id": "A5BOkCoclN1q",
    "outputId": "b0857446-61b4-4ab0-d8dc-397758df61da"
   },
   "outputs": [],
   "source": [
    "! pip install ydata-profiling"
   ]
  },
  {
   "cell_type": "code",
   "execution_count": null,
   "metadata": {
    "id": "EfWJ4wSylMPF"
   },
   "outputs": [],
   "source": []
  },
  {
   "cell_type": "code",
   "execution_count": null,
   "metadata": {
    "id": "BZ-E-VoXdNoV"
   },
   "outputs": [],
   "source": [
    "# Import essential libraries\n",
    "import pandas as pd\n",
    "import numpy as np\n",
    "import matplotlib.pyplot as plt\n",
    "import seaborn as sns\n"
   ]
  },
  {
   "cell_type": "code",
   "execution_count": null,
   "metadata": {
    "id": "3vHp5RjCmrWg"
   },
   "outputs": [],
   "source": [
    "from ydata_profiling import ProfileReport"
   ]
  },
  {
   "cell_type": "code",
   "execution_count": null,
   "metadata": {
    "id": "kveTNTqsdPCB"
   },
   "outputs": [],
   "source": [
    "# Options for cleaner display\n",
    "pd.set_option('display.max_columns', None)\n",
    "sns.set_style('whitegrid')\n",
    "plt.style.use('seaborn-v0_8-deep')\n"
   ]
  },
  {
   "cell_type": "code",
   "execution_count": null,
   "metadata": {
    "id": "lMY8xeSld8dA"
   },
   "outputs": [],
   "source": [
    "import pandas as pd\n",
    "import os \n"
   ]
  },
  {
   "cell_type": "code",
   "execution_count": null,
   "metadata": {},
   "outputs": [],
   "source": [
    "# Define the file path using os.path.join for cross-OS compatibility\n",
    "DATA_PATH = os.path.join(\"data\", \"WA_Fn-UseC_-Telco-Customer-Churn.csv\")\n",
    "\n",
    "try:\n",
    "    # Load the CSV file into a pandas DataFrame\n",
    "    df = pd.read_csv(DATA_PATH)\n",
    "    \n",
    "    # Quick check for successful loading\n",
    "    print(f\"Loading successful. Number of rows: {len(df)}\")\n",
    "    print(\"Preview of the first 3 rows:\")\n",
    "    print(df.head(3))\n",
    "    \n",
    "except FileNotFoundError:\n",
    "    print(f\"ERROR: File not found at location: {DATA_PATH}\")\n",
    "    print(\"Please check that the file is in the 'data' folder and the name is correct.\")\n",
    "except Exception as e:\n",
    "    print(f\"An unexpected error occurred during loading: {e}\")"
   ]
  },
  {
   "cell_type": "code",
   "execution_count": null,
   "metadata": {},
   "outputs": [],
   "source": []
  },
  {
   "cell_type": "code",
   "execution_count": null,
   "metadata": {
    "id": "mK9QD8qvd0A3"
   },
   "outputs": [],
   "source": []
  },
  {
   "cell_type": "code",
   "execution_count": null,
   "metadata": {
    "colab": {
     "base_uri": "https://localhost:8080/",
     "height": 330
    },
    "id": "Apx2JQVKeNQF",
    "outputId": "e76ff570-4a59-47dd-dbb7-6697781e8851"
   },
   "outputs": [],
   "source": [
    "# Displaying first lines and general information\n",
    "print(\"Data overview :\")\n",
    "display(df.head())\n"
   ]
  },
  {
   "cell_type": "code",
   "execution_count": null,
   "metadata": {
    "colab": {
     "base_uri": "https://localhost:8080/"
    },
    "id": "1qckcdkleWHH",
    "outputId": "99a43841-908c-4b15-b0d0-9fe673d92a3f"
   },
   "outputs": [],
   "source": [
    "df.shape"
   ]
  },
  {
   "cell_type": "code",
   "execution_count": null,
   "metadata": {
    "colab": {
     "base_uri": "https://localhost:8080/"
    },
    "id": "AQY1yd6DeZ7o",
    "outputId": "afef5d9d-fc92-4ca7-9b4b-43a78a03386b"
   },
   "outputs": [],
   "source": [
    "df.info()"
   ]
  },
  {
   "cell_type": "code",
   "execution_count": null,
   "metadata": {
    "colab": {
     "base_uri": "https://localhost:8080/",
     "height": 742
    },
    "id": "PEnkkMb3etX9",
    "outputId": "aec28ba9-699a-4244-f534-81a60dce4d55"
   },
   "outputs": [],
   "source": [
    "df.isna().sum()"
   ]
  },
  {
   "cell_type": "markdown",
   "metadata": {
    "id": "TBr1Ii5jgZ7I"
   },
   "source": [
    "# A Data Preparation (Data Preprocessing)"
   ]
  },
  {
   "cell_type": "markdown",
   "metadata": {
    "id": "MMXyKacifH4v"
   },
   "source": [
    "## Initial Cleaning and Automated Exploratory Analysis"
   ]
  },
  {
   "cell_type": "code",
   "execution_count": null,
   "metadata": {
    "id": "0uhVaY4Uevno"
   },
   "outputs": [],
   "source": [
    "# Try to convert TotalCharges to numeric, errors will become NaN (Not a Number)\n",
    "df['TotalCharges'] = pd.to_numeric(df['TotalCharges'], errors='coerce')"
   ]
  },
  {
   "cell_type": "code",
   "execution_count": null,
   "metadata": {
    "colab": {
     "base_uri": "https://localhost:8080/"
    },
    "id": "H1cwXIRnevkK",
    "outputId": "e3aa28ad-8e00-4672-869e-5289bfe8e252"
   },
   "outputs": [],
   "source": [
    "df.info()"
   ]
  },
  {
   "cell_type": "code",
   "execution_count": null,
   "metadata": {
    "colab": {
     "base_uri": "https://localhost:8080/",
     "height": 742
    },
    "id": "u9vJpMceevha",
    "outputId": "074d20a3-1a43-44ae-c6c8-478e18144f83"
   },
   "outputs": [],
   "source": [
    "df.isnull().sum()"
   ]
  },
  {
   "cell_type": "markdown",
   "metadata": {
    "id": "4qRKwoXvgH-k"
   },
   "source": []
  },
  {
   "cell_type": "markdown",
   "metadata": {
    "id": "75FwcDa2gQC6"
   },
   "source": [
    "## A. Cleaning and Imputation of Missing Values"
   ]
  },
  {
   "cell_type": "code",
   "execution_count": null,
   "metadata": {
    "colab": {
     "base_uri": "https://localhost:8080/"
    },
    "id": "3grQBSiceveh",
    "outputId": "67ceb798-1f9d-4ca2-9042-74dd90df6aaf"
   },
   "outputs": [],
   "source": [
    "# Display rows with missing TotalCharges to confirm\n",
    "print(\"Customers with missing TotalCharges (before imputation):\")\n",
    "print(df[df['TotalCharges'].isnull()][['customerID', 'tenure', 'TotalCharges']])\n"
   ]
  },
  {
   "cell_type": "code",
   "execution_count": null,
   "metadata": {
    "id": "RuQcEUqvgujJ"
   },
   "outputs": [],
   "source": [
    "\n",
    "# Imputation by the median\n",
    "median_total_charges = df['TotalCharges'].median()\n",
    "df['TotalCharges'] = df['TotalCharges'].fillna(median_total_charges)"
   ]
  },
  {
   "cell_type": "code",
   "execution_count": null,
   "metadata": {
    "colab": {
     "base_uri": "https://localhost:8080/"
    },
    "id": "3IaBogc9gJTf",
    "outputId": "c4912c73-3c79-443c-d4a5-de6bc4271d61"
   },
   "outputs": [],
   "source": [
    "\n",
    "# Check that there are no more missing values\n",
    "print(\"Number of missing values ​​after imputation:\")\n",
    "print(df.isnull().sum().sum())"
   ]
  },
  {
   "cell_type": "markdown",
   "metadata": {
    "id": "inFgbEWih2cR"
   },
   "source": [
    "Imputation of the TotalCharges column using the median is preferred because it is robust and resistant to outliers.\n",
    "\n",
    "Why the Median? Unlike the mean, the median is the 50th percentile and is not affected by customers with exceptionally high total charges."
   ]
  },
  {
   "cell_type": "code",
   "execution_count": null,
   "metadata": {
    "id": "8kRosJACgJQB"
   },
   "outputs": [],
   "source": []
  },
  {
   "cell_type": "code",
   "execution_count": null,
   "metadata": {
    "id": "Shhx16Egkhsk"
   },
   "outputs": [],
   "source": [
    "df['SeniorCitizen'] = df['SeniorCitizen'].replace({1: 'Yes', 0: 'No'})"
   ]
  },
  {
   "cell_type": "markdown",
   "metadata": {
    "id": "CIPMwQNniA8Z"
   },
   "source": [
    "# B. Analysis of Target Variable: `Churn`"
   ]
  },
  {
   "cell_type": "code",
   "execution_count": null,
   "metadata": {
    "colab": {
     "base_uri": "https://localhost:8080/",
     "height": 416
    },
    "id": "zy88HE4diqmn",
    "outputId": "890e386a-43e5-4de9-d743-bccd919efb88"
   },
   "outputs": [],
   "source": [
    "# Visualization of Churn Distribution\n",
    "plt.figure(figsize=(6, 4))\n",
    "ax = sns.countplot(x='Churn', hue='Churn', data=df, palette='viridis', legend=False)\n",
    "plt.title('Customers Distribution : Churn vs Non-Churn', fontsize=16)\n",
    "plt.xlabel('Churn', fontsize=12)\n",
    "plt.ylabel('Customers number', fontsize=12)\n",
    "\n",
    "# Added percentages to the bars\n",
    "total = len(df)\n",
    "for p in ax.patches:\n",
    "    percentage = f'{100 * p.get_height() / total:.1f}%'\n",
    "    x = p.get_x() + p.get_width() / 2\n",
    "    y = p.get_height()\n",
    "    ax.annotate(percentage, (x, y + 20), ha='center')\n",
    "\n",
    "plt.show()"
   ]
  },
  {
   "cell_type": "markdown",
   "metadata": {
    "id": "NbQxUKQbjDTT"
   },
   "source": [
    "The chart illustrates the distribution of customers between those who remained (Non-Churn) and those who unsubscribed (Churn), highlighting a marked class imbalance in the dataset.\n",
    "\n",
    "Key Observation: 73.5% of customers did not churn (majority class), compared to only 26.5% who unsubscribed (minority class).\n",
    "\n",
    "Implication for the Model: This imbalance of approximately 3:1 means that training a churn prediction model is an imbalanced classification problem.\n",
    "\n",
    "Strategy: To ensure the model is effective in retention efforts, it is essential to focus on improving the Recall of the minority class. Techniques such as adjusting the decision threshold or applying class weights"
   ]
  },
  {
   "cell_type": "code",
   "execution_count": null,
   "metadata": {
    "id": "Hp2BFbEpevYS"
   },
   "outputs": [],
   "source": []
  },
  {
   "cell_type": "markdown",
   "metadata": {
    "id": "iNYbWBhsnL33"
   },
   "source": [
    "# Descriptive statistics"
   ]
  },
  {
   "cell_type": "code",
   "execution_count": null,
   "metadata": {
    "colab": {
     "base_uri": "https://localhost:8080/",
     "height": 335
    },
    "id": "Erzr5eG8mW-X",
    "outputId": "ac8a12ef-43df-493f-eae0-1e82bcd4fb49"
   },
   "outputs": [],
   "source": [
    "print(\"\\nDescriptive statistics of numerical variables :\")\n",
    "display(df.describe())"
   ]
  },
  {
   "cell_type": "code",
   "execution_count": null,
   "metadata": {
    "id": "0E9-fwODmaIL"
   },
   "outputs": [],
   "source": []
  },
  {
   "cell_type": "code",
   "execution_count": null,
   "metadata": {
    "colab": {
     "base_uri": "https://localhost:8080/",
     "height": 1000,
     "referenced_widgets": [
      "0d53f7bc694c452f90c8e88fdd8d66b5",
      "7dbfc58554cb404db9673832ef19c071",
      "4c5beaf343d84deeb966dea59269f512",
      "0ffdcbc66a304c258ae2d4a69edfd238",
      "90e6795cc9ab4f62a0f0787bd65799eb",
      "64545d146eae496691989259153dcd2c",
      "c18815cadc874dd1b85313b870fce848",
      "5a078f086ad24675a658b8aa732bfcad",
      "968d7cefa7db49a9ae04aa807a5777c4",
      "07c1ac6f1a1d460fb17217fcd6307d96",
      "1193447d04604d68a88cc78c9c9c52df",
      "e47cc8ab9f974e26851d19b149b35839",
      "31d54dbfbb8446b7a685c0925ccc2411",
      "84349d31ebaf481b98531ad7649be79f",
      "0f3663b916ce4892b8dbf69fc0916664",
      "2a0ab891cd0b43b4b73e008682f085cd",
      "8b0318ec647647af956c3782917d9504",
      "bc0fd40e40074378af5a514388c55666",
      "12c02dc2715e4d70a4a234bfb3e2ae9f",
      "e2df0d8b7360445d88dc430eec86bcee",
      "dfe1752aac1d4725bdb47e611827f313",
      "28e0bca0091f4a9f872ccfe19520293d",
      "7a1066a566f74ee4b5aab2ed8cacb3ab",
      "200c4c7ba4f54463ab80925166d2f05c",
      "bb8070171ec34d4a964b4fc588d8333f",
      "98d4a2b1a0b845308364ac75f4f551e6",
      "ff3029388d574140b654d9214fd08824",
      "31affb2adc3c4b2789288019ccbc5439",
      "da29449dfbe34a22926bd20ccc915736",
      "79d1b7552a2f4f5eb382b4f2459262f6",
      "fe74dfb22bc34e4194e2b103b9f22f57",
      "705402d879e04e1b80c73419e0af4c71",
      "168d0708348742ce8570727d093728f4"
     ]
    },
    "id": "msnVlQ88imaZ",
    "outputId": "4dff3337-3385-45ba-e22c-43bd63d6b582"
   },
   "outputs": [],
   "source": []
  },
  {
   "cell_type": "code",
   "execution_count": null,
   "metadata": {
    "id": "CLyyhrlMpDxr"
   },
   "outputs": [],
   "source": []
  },
  {
   "cell_type": "code",
   "execution_count": null,
   "metadata": {
    "id": "7tmDQPsKsHTU"
   },
   "outputs": [],
   "source": [
    "df=df.drop('customerID', axis=1)"
   ]
  },
  {
   "cell_type": "markdown",
   "metadata": {
    "id": "EakB77WdpnhH"
   },
   "source": [
    "# Bivariate Analysis: Exploring the Link Between Each Variable and Churn"
   ]
  },
  {
   "cell_type": "code",
   "execution_count": null,
   "metadata": {
    "id": "MrlDAfH9poiB"
   },
   "outputs": [],
   "source": []
  },
  {
   "cell_type": "code",
   "execution_count": null,
   "metadata": {
    "colab": {
     "base_uri": "https://localhost:8080/"
    },
    "id": "vFyZXAYLpDbU",
    "outputId": "853fc869-60e1-46bc-c189-b9c34ffcdcd0"
   },
   "outputs": [],
   "source": [
    "# Selection of 'object' or 'category' type columns\n",
    "qualitative_vars = df.select_dtypes(include=['object', 'category']).columns.tolist()\n",
    "print(\"Qualitative variables:\", qualitative_vars)"
   ]
  },
  {
   "cell_type": "code",
   "execution_count": null,
   "metadata": {
    "id": "mmX1bJ3tqPMp"
   },
   "outputs": [],
   "source": []
  },
  {
   "cell_type": "code",
   "execution_count": null,
   "metadata": {
    "colab": {
     "base_uri": "https://localhost:8080/",
     "height": 1000
    },
    "id": "gbCzgWOnildE",
    "outputId": "65ad12e4-26d9-46a8-cf7b-06f613d3e1a8"
   },
   "outputs": [],
   "source": [
    "categorical_features=['gender', 'SeniorCitizen', 'Partner', 'Dependents', 'PhoneService', 'MultipleLines',\n",
    "                      'InternetService', 'OnlineSecurity', 'OnlineBackup', 'DeviceProtection', 'TechSupport', 'StreamingTV',\n",
    "                      'StreamingMovies', 'Contract', 'PaperlessBilling', 'PaymentMethod']\n",
    "\n",
    "fig, axes = plt.subplots(nrows=4, ncols=4, figsize=(20, 18))\n",
    "axes = axes.flatten()\n",
    "\n",
    "for i, col in enumerate(categorical_features):\n",
    "    sns.countplot(x=col, hue='Churn', data=df, ax=axes[i], palette='viridis')\n",
    "    axes[i].set_title(f'Churn par {col}')\n",
    "    axes[i].tick_params(axis='x', rotation=45)\n",
    "\n",
    "plt.tight_layout()\n",
    "plt.show()\n"
   ]
  },
  {
   "cell_type": "code",
   "execution_count": null,
   "metadata": {
    "colab": {
     "base_uri": "https://localhost:8080/",
     "height": 1000
    },
    "id": "ARLYwLryrN8V",
    "outputId": "41e8e347-7862-4554-866a-8133adad77e8"
   },
   "outputs": [],
   "source": [
    "#Let's analyze how the distribution of numerical variables changes depending on churn.\n",
    "numerical_cols = ['tenure', 'MonthlyCharges', 'TotalCharges']\n",
    "\n",
    "for col in numerical_cols:\n",
    "    plt.figure(figsize=(8, 5))\n",
    "    sns.kdeplot(data=df, x=col, hue='Churn', fill=True, common_norm=False, palette='viridis')\n",
    "    plt.title(f'Distribution of \"{col}\" by Churn', fontsize=14)\n",
    "    plt.show()"
   ]
  },
  {
   "cell_type": "code",
   "execution_count": null,
   "metadata": {
    "id": "8fdDku3irNwZ"
   },
   "outputs": [],
   "source": []
  },
  {
   "cell_type": "markdown",
   "metadata": {
    "id": "0tFqd3FPrkBa"
   },
   "source": [
    "## Hypotheses to be validated with these graphs:\n",
    "At-Risk Customer Profile (Churner Type):\n",
    "- Contract: The customer has a monthly contract with no long-term commitment.\n",
    "- Tenure: They are a recent customer, likely with less than one year of tenure.\n",
    "- Billing: They pay high monthly fees (probably for fiber service) and use an inconvenient payment method such as electronic check.\n",
    "- Services: They have not subscribed to \"comfort\" and security services like OnlineSecurity, OnlineBackup, DeviceProtection, or TechSupport. As a result, they are less integrated into the company's ecosystem.\n",
    "- Internet: They use fiber optic internet, which ;despite its performance appears to be associated with higher churn risk.\n",
    "\n",
    "- Protection Services: Customers without OnlineSecurity or TechSupport seem to leave more.\n",
    "\n",
    "- Monthly Charges: There is a spike in churn for customers with high monthly charges.\n"
   ]
  },
  {
   "cell_type": "code",
   "execution_count": null,
   "metadata": {
    "colab": {
     "base_uri": "https://localhost:8080/"
    },
    "id": "6wPyId1frNrj",
    "outputId": "d2bbd1c4-7630-4828-acd3-7f4e6bb074b0"
   },
   "outputs": [],
   "source": [
    "df.info()"
   ]
  },
  {
   "cell_type": "code",
   "execution_count": null,
   "metadata": {
    "id": "vZMNSWLJsUEJ"
   },
   "outputs": [],
   "source": [
    "df_clean=df"
   ]
  },
  {
   "cell_type": "code",
   "execution_count": null,
   "metadata": {
    "id": "ErrNCJs7w5_w"
   },
   "outputs": [],
   "source": []
  },
  {
   "cell_type": "markdown",
   "metadata": {
    "id": "yyPQmlQdw_Ps"
   },
   "source": [
    "# Correlation Matrix for Numerical Variables"
   ]
  },
  {
   "cell_type": "code",
   "execution_count": null,
   "metadata": {
    "colab": {
     "base_uri": "https://localhost:8080/",
     "height": 701
    },
    "id": "k4Y9u2-Cw58X",
    "outputId": "24524a9d-f7ab-4307-d247-2aebc3ea97da"
   },
   "outputs": [],
   "source": [
    "numerical_df = df[['tenure', 'MonthlyCharges', 'TotalCharges']].copy()\n",
    "numerical_df['Churn'] = df['Churn'].map({'Yes': 1, 'No': 0})\n",
    "\n",
    "plt.figure(figsize=(10, 8))\n",
    "sns.heatmap(\n",
    "numerical_df.corr(),\n",
    "annot=True, # Display correlation values\n",
    "cmap='coolwarm', # Choose a color palette\n",
    "fmt=\".2f\" # Format numbers to 2 decimal places\n",
    ")\n",
    "plt.title('Numerical Variable Correlation Matrix', fontsize=16)\n",
    "plt.show()"
   ]
  },
  {
   "cell_type": "markdown",
   "metadata": {
    "id": "KaZaQOZvyGM3"
   },
   "source": [
    "# Observations and Insights:\n",
    "Tenure and Total Charges (0.83): Strong positive correlation. This makes perfect sense: the longer a customer stays, the higher the total amount they paid. This confirms the consistency of our data.\n",
    "\n",
    "Monthly Charges and Total Charges (0.65): Moderate positive correlation. Also logical.\n",
    "\n",
    "Tenure and Churn (-0.35): Negative correlation. This is exactly what we saw in the EDA: as tenure increases, the probability of churn decreases.\n",
    "\n",
    "Monthly Charges and Churn (0.19): Weak positive correlation. The higher the monthly charges, the higher the probability of churn."
   ]
  },
  {
   "cell_type": "code",
   "execution_count": null,
   "metadata": {
    "id": "uJIAeQ9Iw5rw"
   },
   "outputs": [],
   "source": []
  },
  {
   "cell_type": "markdown",
   "metadata": {
    "id": "5Hb1dRQEyZyN"
   },
   "source": [
    "# Multivariate Analysis - The Fiber Optic \"Paradox\"\n",
    "\n",
    "Our EDA showed that customers with fiber optics churn more. But is this because of the fiber itself, or because fiber is associated with higher monthly fees? We can visualize three variables at once to answer this question."
   ]
  },
  {
   "cell_type": "code",
   "execution_count": null,
   "metadata": {
    "colab": {
     "base_uri": "https://localhost:8080/",
     "height": 566
    },
    "id": "8k2beRHfyZRj",
    "outputId": "853fb252-7b67-4b80-b5c8-90d489dff2b1"
   },
   "outputs": [],
   "source": [
    "plt.figure(figsize=(8, 6))\n",
    "sns.boxplot(\n",
    "    data=df,\n",
    "    x='InternetService',\n",
    "    y='MonthlyCharges',\n",
    "    hue='Churn'\n",
    ")\n",
    "plt.title('Monthly Fees vs. Internet Service Type and Churn', fontsize=16)\n",
    "plt.show()"
   ]
  },
  {
   "cell_type": "markdown",
   "metadata": {
    "id": "A674Fj5ayt95"
   },
   "source": [
    "## Analyzing this complex graph:\n",
    "\n",
    "DSL & No Internet: Monthly fees are low, and the price difference between those who leave (\"Yes\") and those who stay (\"No\") is minimal. Churn is low in these categories.\n",
    "\n",
    "Fiber optic: This is where the story begins.\n",
    "Monthly fees for fiber optic are generally much higher.\n",
    "\n",
    "BUT MORE IMPORTANTLY: Among fiber optic customers, the median monthly fee for those who leave is significantly higher than that of those who stay."
   ]
  },
  {
   "cell_type": "markdown",
   "metadata": {
    "id": "C_VlXVQUyzDY"
   },
   "source": [
    "##Conclusion / Refined Hypothesis:\n",
    " It's not so much fiber optics by itself that causes churn, but rather the high price associated with it. Fiber optic customers who pay the most expensive bills are the most likely to leave. This is a crucial nuance for the company: the problem may not be technical, but commercial (pricing)."
   ]
  },
  {
   "cell_type": "code",
   "execution_count": null,
   "metadata": {
    "id": "-Ws8L7QmHQxm"
   },
   "outputs": [],
   "source": []
  },
  {
   "cell_type": "code",
   "execution_count": null,
   "metadata": {
    "colab": {
     "base_uri": "https://localhost:8080/"
    },
    "id": "FZyAY8fNyZN7",
    "outputId": "1122fece-54b1-4f3b-8967-fa21b87625d1"
   },
   "outputs": [],
   "source": [
    "print(df['tenure'].head())"
   ]
  },
  {
   "cell_type": "code",
   "execution_count": null,
   "metadata": {
    "colab": {
     "base_uri": "https://localhost:8080/",
     "height": 472
    },
    "id": "On46Jqsux75o",
    "outputId": "1476c02e-427c-4f89-cc71-0d1f6155ff6e"
   },
   "outputs": [],
   "source": [
    "import seaborn as sns\n",
    "import matplotlib.pyplot as plt\n",
    "\n",
    "sns.histplot(df['tenure'], bins=30, kde=True)\n",
    "plt.title('Distribution de la variable tenure')\n",
    "plt.xlabel('tenure (mois)')\n",
    "plt.ylabel('Nombre de clients')\n",
    "plt.show()"
   ]
  },
  {
   "cell_type": "code",
   "execution_count": null,
   "metadata": {
    "colab": {
     "base_uri": "https://localhost:8080/"
    },
    "id": "dI60Nf_xH2Lo",
    "outputId": "2741bf92-bbfb-422e-ab6e-4d055bc49f20"
   },
   "outputs": [],
   "source": [
    "print(df['tenure'].describe())"
   ]
  },
  {
   "cell_type": "code",
   "execution_count": null,
   "metadata": {
    "colab": {
     "base_uri": "https://localhost:8080/"
    },
    "id": "8qp_CzI0H2IL",
    "outputId": "f807242c-06c1-4895-e567-5838cfd05305"
   },
   "outputs": [],
   "source": [
    "print(df['tenure'].isna().sum())"
   ]
  },
  {
   "cell_type": "code",
   "execution_count": null,
   "metadata": {
    "id": "V1LESTbhH2E2"
   },
   "outputs": [],
   "source": []
  },
  {
   "cell_type": "code",
   "execution_count": null,
   "metadata": {
    "id": "Gb2M-X_3H2Bx"
   },
   "outputs": [],
   "source": []
  },
  {
   "cell_type": "code",
   "execution_count": null,
   "metadata": {
    "id": "k2adQbvyx72G"
   },
   "outputs": [],
   "source": []
  },
  {
   "cell_type": "markdown",
   "metadata": {
    "id": "yozX8OxRwWc5"
   },
   "source": [
    "# Advanced Feature Engineering"
   ]
  },
  {
   "cell_type": "markdown",
   "metadata": {
    "id": "8gzVYeX3w3KR"
   },
   "source": [
    "Based on EDA, we know that tenure is a key factor. Grouping customers by tenure could help the model better capture critical thresholds."
   ]
  },
  {
   "cell_type": "code",
   "execution_count": null,
   "metadata": {
    "colab": {
     "base_uri": "https://localhost:8080/",
     "height": 472
    },
    "id": "VNJk0b7lvVV5",
    "outputId": "d9d58074-3863-4e5c-87ad-3cea5114ed5a"
   },
   "outputs": [],
   "source": [
    "# Creating Tenure Groups\n",
    "\n",
    "labels = [\"New (0-12m)\", \"Loyal (13-48m)\", \"Veteran (49-72m)\"]\n",
    "df['tenure_group'] = pd.cut(df['tenure'], bins=[0, 12, 48, 73], labels=labels, right=False) # right=False to include 0\n",
    "\n",
    "\n",
    "sns.countplot(x='tenure_group', hue='Churn', data=df)\n",
    "plt.title('Churn by Tenure Group')\n",
    "plt.show()"
   ]
  },
  {
   "cell_type": "markdown",
   "metadata": {
    "id": "ZL7t0U80zJkO"
   },
   "source": [
    "Observation: New customers have a much higher churn rate.  new tenure_group variable captures this information well."
   ]
  },
  {
   "cell_type": "code",
   "execution_count": null,
   "metadata": {
    "id": "GU7qVBI7GVk4"
   },
   "outputs": [],
   "source": []
  },
  {
   "cell_type": "code",
   "execution_count": null,
   "metadata": {
    "id": "_Gsp_mZGGVhF"
   },
   "outputs": [],
   "source": []
  },
  {
   "cell_type": "code",
   "execution_count": null,
   "metadata": {
    "id": "N6hFBNQOGVUt"
   },
   "outputs": [],
   "source": []
  },
  {
   "cell_type": "code",
   "execution_count": null,
   "metadata": {
    "colab": {
     "base_uri": "https://localhost:8080/",
     "height": 215
    },
    "id": "Y-vL5hkEw43U",
    "outputId": "a023d976-beb7-476c-fe24-2322d19e0c8a"
   },
   "outputs": [],
   "source": [
    "df.head(3)"
   ]
  },
  {
   "cell_type": "code",
   "execution_count": null,
   "metadata": {
    "id": "_eOJN3WYz4NB"
   },
   "outputs": [],
   "source": []
  },
  {
   "cell_type": "markdown",
   "metadata": {
    "id": "PVkDsBpmz6_u"
   },
   "source": [
    "## Cost/tenure ratio: monthly average—may reveal customers who have recently been billed very high (churn risk)"
   ]
  },
  {
   "cell_type": "code",
   "execution_count": null,
   "metadata": {
    "id": "12_UNkLOz4Ja"
   },
   "outputs": [],
   "source": [
    "df['MeanCharges'] = df['TotalCharges'] / (df['tenure'].replace(0, 1))\n"
   ]
  },
  {
   "cell_type": "code",
   "execution_count": null,
   "metadata": {
    "colab": {
     "base_uri": "https://localhost:8080/"
    },
    "id": "Z9T4hrjNz4Gp",
    "outputId": "8890352c-0489-4c1e-a0b7-65ab164cc52f"
   },
   "outputs": [],
   "source": [
    "print(df['MeanCharges'].describe())"
   ]
  },
  {
   "cell_type": "code",
   "execution_count": null,
   "metadata": {
    "id": "XWp8HkkW09_B"
   },
   "outputs": [],
   "source": []
  },
  {
   "cell_type": "code",
   "execution_count": null,
   "metadata": {
    "id": "hDcqb3oiwal7"
   },
   "outputs": [],
   "source": []
  },
  {
   "cell_type": "code",
   "execution_count": null,
   "metadata": {
    "id": "QSsMU7BCwaZE"
   },
   "outputs": [],
   "source": []
  },
  {
   "cell_type": "markdown",
   "metadata": {
    "id": "yW4LVi-HvZWi"
   },
   "source": [
    "# Analysis and preparation of categorical variables"
   ]
  },
  {
   "cell_type": "markdown",
   "metadata": {
    "id": "oncM4GX7vV3j"
   },
   "source": [
    "## Statistical Test for the Significance of Variables"
   ]
  },
  {
   "cell_type": "code",
   "execution_count": null,
   "metadata": {
    "id": "NSquvVH1vVLQ"
   },
   "outputs": [],
   "source": []
  },
  {
   "cell_type": "code",
   "execution_count": null,
   "metadata": {
    "colab": {
     "base_uri": "https://localhost:8080/"
    },
    "id": "beg2QwJ2tRNm",
    "outputId": "760ebb71-ec33-4fce-93a6-bf38dae9f211"
   },
   "outputs": [],
   "source": [
    "# Select categorical columns (object or category type), excluding 'customerID'\n",
    "cat_cols = df_clean.select_dtypes(include=['object', 'category']).columns.drop('customerID', errors='ignore')\n",
    "\n",
    "# Display columns and their unique categories\n",
    "for col in cat_cols:\n",
    "     uniques = sorted(df_clean[col].dropna().unique())\n",
    "     print(f\" {col} - ({len(uniques)} categories) : {uniques}\")"
   ]
  },
  {
   "cell_type": "code",
   "execution_count": null,
   "metadata": {
    "id": "c6ngTL09vDUd"
   },
   "outputs": [],
   "source": []
  },
  {
   "cell_type": "code",
   "execution_count": null,
   "metadata": {
    "id": "oWmnktw03p6y"
   },
   "outputs": [],
   "source": [
    "import pandas as pd\n",
    "from scipy.stats import chi2_contingency, ttest_ind\n",
    "import numpy as np"
   ]
  },
  {
   "cell_type": "markdown",
   "metadata": {
    "id": "syNqV6AyvDt9"
   },
   "source": []
  },
  {
   "cell_type": "code",
   "execution_count": null,
   "metadata": {
    "colab": {
     "base_uri": "https://localhost:8080/"
    },
    "id": "uDphU0RC4TXL",
    "outputId": "bcfa16eb-b54c-498a-e30b-43ae2df2074a"
   },
   "outputs": [],
   "source": [
    "# Selection of 'object' or 'category' type columns\n",
    "qualitative_vars = df.select_dtypes(include=['object', 'category']).columns.tolist()\n",
    "print(\"Qualitative variables:\", qualitative_vars)"
   ]
  },
  {
   "cell_type": "code",
   "execution_count": null,
   "metadata": {
    "id": "GUROhQem4TTn"
   },
   "outputs": [],
   "source": []
  },
  {
   "cell_type": "code",
   "execution_count": null,
   "metadata": {
    "id": "5g57uJKwvDRF"
   },
   "outputs": [],
   "source": [
    "# Categorical Variables (including object/category and int64 binaries)\n",
    "# 'Churn' is the target variable\n",
    "categorical_features = ['gender', 'SeniorCitizen', 'Partner', 'Dependents', 'PhoneService',\n",
    " 'MultipleLines', 'InternetService', 'OnlineSecurity', 'OnlineBackup',\n",
    " 'DeviceProtection', 'TechSupport', 'StreamingTV', 'StreamingMovies',\n",
    " 'Contract', 'PaperlessBilling', 'PaymentMethod', 'tenure_group']"
   ]
  },
  {
   "cell_type": "code",
   "execution_count": null,
   "metadata": {
    "id": "NADTWOxltRJ_"
   },
   "outputs": [],
   "source": [
    "# Numerical Variables\n",
    "numerical_features = [\n",
    "    'tenure', 'MonthlyCharges', 'TotalCharges','MeanCharges'\n",
    "]\n"
   ]
  },
  {
   "cell_type": "code",
   "execution_count": null,
   "metadata": {
    "id": "2AZomwFTsUAx"
   },
   "outputs": [],
   "source": []
  },
  {
   "cell_type": "code",
   "execution_count": null,
   "metadata": {
    "colab": {
     "base_uri": "https://localhost:8080/"
    },
    "id": "4aZaDBjB4tOA",
    "outputId": "75daa63d-3521-4538-cf79-ad2f64b01195"
   },
   "outputs": [],
   "source": [
    "# --- 2. Chi-Square Test (Categorical Variables) ---\n",
    "print(\"=\" * 70)\n",
    "print(\"Significance Analysis (Chi-Square) for Categorical/Binary Variables\")\n",
    "print(\"=\" * 70)\n",
    "\n",
    "for col in categorical_features:\n",
    "\n",
    "     temp_df = df.dropna(subset=[col, 'Churn'])\n",
    "\n",
    "     # Create the contingency table\n",
    "     contingency_table = pd.crosstab(temp_df[col], temp_df['Churn'])\n",
    "\n",
    "     # Apply the Chi-Square test\n",
    "\n",
    "     chi2, p_value, dof, expected = chi2_contingency(contingency_table, correction=True)\n",
    "\n",
    "     # Interpretation\n",
    "     significance = \"SIGNIFICANT (p < 0.05) **\" if p_value < 0.05 else \"Not Significant\"\n",
    "     print(f\"Variable '{col}': p-value = {p_value:.6f} -> {significance}\")"
   ]
  },
  {
   "cell_type": "markdown",
   "metadata": {
    "id": "i3uaYdNe5b8c"
   },
   "source": [
    "We are considering removing the gender and phoneservie variables as they provide no statistical information."
   ]
  },
  {
   "cell_type": "code",
   "execution_count": null,
   "metadata": {
    "id": "-B78RDAa4tKg"
   },
   "outputs": [],
   "source": []
  },
  {
   "cell_type": "code",
   "execution_count": null,
   "metadata": {
    "colab": {
     "base_uri": "https://localhost:8080/"
    },
    "id": "1ZLni-sS5hoz",
    "outputId": "75e0f237-11a0-44aa-d031-660449009015"
   },
   "outputs": [],
   "source": [
    "# --- 3. Student's t-Test (Numeric Variables) ---\n",
    "print(\"\\n\" + \"=\" * 70)\n",
    "print(\"Significance Analysis (t-Test) for Numeric Variables\")\n",
    "print(\"=\" * 70)\n",
    "\n",
    "\n",
    "churn_yes = df[df['Churn'] == 'Yes']\n",
    "churn_no = df[df['Churn'] == 'No']\n",
    "\n",
    "\n",
    "for col in numerical_features:\n",
    "   # Apply Student's t-test (nan_policy='omit' handles missing values)\n",
    "    stat, p_value = ttest_ind(churn_yes[col], churn_no[col], nan_policy='omit')\n",
    "\n",
    "    # Interpretation\n",
    "    significance = \"SIGNIFICATIF (p < 0.05) **\" if p_value < 0.05 else \"Non Significatif\"\n",
    "\n",
    "    # Displaying results\n",
    "    print(f\"Variable '{col}': p-value = {p_value:.6f} -> {significance}\")\n",
    "\n",
    "    # Show the averages to understand the meaning of the relationship\n",
    "    mean_yes = churn_yes[col].mean()\n",
    "    mean_no = churn_no[col].mean()\n",
    "    print(f\"    average Churn=Yes: {mean_yes:.2f} | average Churn=No: {mean_no:.2f}\")\n",
    "\n",
    "print(\"=\" * 70)"
   ]
  },
  {
   "cell_type": "markdown",
   "metadata": {
    "id": "mrif2W_c5tcW"
   },
   "source": [
    "The significant deviation in averages confirms that high-risk customers are those who pay a lot for low seniority, which validates our Feature Engineering approach (Monthly Overcharge Ratio)"
   ]
  },
  {
   "cell_type": "code",
   "execution_count": null,
   "metadata": {
    "colab": {
     "base_uri": "https://localhost:8080/",
     "height": 313
    },
    "id": "v45Sm-pQ5hlX",
    "outputId": "b73fdb4d-7f2a-4bc0-d3a0-338443e2c48c"
   },
   "outputs": [],
   "source": [
    "df.head()"
   ]
  },
  {
   "cell_type": "code",
   "execution_count": null,
   "metadata": {
    "id": "1-cFwJ2L4tHH"
   },
   "outputs": [],
   "source": []
  },
  {
   "cell_type": "code",
   "execution_count": null,
   "metadata": {
    "id": "FG87cbMKpgj2"
   },
   "outputs": [],
   "source": []
  },
  {
   "cell_type": "code",
   "execution_count": null,
   "metadata": {
    "id": "q-ho3fDfpggP"
   },
   "outputs": [],
   "source": []
  },
  {
   "cell_type": "code",
   "execution_count": null,
   "metadata": {
    "id": "s104TtIjpgch"
   },
   "outputs": [],
   "source": []
  },
  {
   "cell_type": "code",
   "execution_count": null,
   "metadata": {
    "id": "luNhojUDpgZQ"
   },
   "outputs": [],
   "source": []
  },
  {
   "cell_type": "code",
   "execution_count": null,
   "metadata": {
    "id": "BfQpAWTLpgVg"
   },
   "outputs": [],
   "source": []
  }
 ],
 "metadata": {
  "colab": {
   "provenance": []
  },
  "kernelspec": {
   "display_name": "Python 3",
   "name": "python3"
  },
  "language_info": {
   "codemirror_mode": {
    "name": "ipython",
    "version": 3
   },
   "file_extension": ".py",
   "mimetype": "text/x-python",
   "name": "python",
   "nbconvert_exporter": "python",
   "pygments_lexer": "ipython3",
   "version": "3.12.3"
  }
 },
 "nbformat": 4,
 "nbformat_minor": 0
}
